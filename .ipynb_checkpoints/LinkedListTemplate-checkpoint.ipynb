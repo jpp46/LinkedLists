{
 "cells": [
  {
   "cell_type": "code",
   "execution_count": null,
   "metadata": {},
   "outputs": [],
   "source": [
    "class Node(object):\n",
    "    def __init__(self, data=None):\n",
    "        self.data = data\n",
    "        self.next_node = None\n",
    "\n",
    "    def get_data(self):\n",
    "        return self.data\n",
    "\n",
    "    def get_next(self):\n",
    "        return self.next_node\n",
    "\n",
    "    def set_next(self, new_next):\n",
    "        self.next_node = new_next"
   ]
  },
  {
   "cell_type": "code",
   "execution_count": null,
   "metadata": {},
   "outputs": [],
   "source": [
    "class LinkedList(object):\n",
    "    def __init__(self, head=None):\n",
    "        self.head = head\n",
    "        \n",
    "    def prepend(self, data):\n",
    "        pass\n",
    "        \n",
    "    def pop(self):\n",
    "        pass\n",
    "        \n",
    "    def append(self, data):\n",
    "        pass\n",
    "        \n",
    "    def insert(self, index, data):\n",
    "        pass\n",
    "    \n",
    "    def delete(self, data):\n",
    "        pass\n",
    "             \n",
    "    def show(self):\n",
    "        current = self.head\n",
    "        \n",
    "        while current:\n",
    "            print(current.get_data())\n",
    "            print(u'\\u2193') # u'/u2193' is the character code for a down arrow\n",
    "            current = current.get_next()\n",
    "        print(current, \"\\n\")"
   ]
  },
  {
   "cell_type": "code",
   "execution_count": null,
   "metadata": {},
   "outputs": [],
   "source": [
    "def init_test():\n",
    "    llist = LinkedList(Node(0))\n",
    "    llist.show()\n",
    "init_test()"
   ]
  },
  {
   "cell_type": "code",
   "execution_count": null,
   "metadata": {},
   "outputs": [],
   "source": [
    "def prepend_test():\n",
    "    llist = LinkedList(Node(0))\n",
    "    for i in range(1, 5):\n",
    "        llist.prepend(i)\n",
    "    llist.show()\n",
    "prepend_test()"
   ]
  },
  {
   "cell_type": "code",
   "execution_count": null,
   "metadata": {},
   "outputs": [],
   "source": [
    "def pop_test():\n",
    "    llist = LinkedList(Node(0))\n",
    "    for i in range(1, 5):\n",
    "        llist.prepend(i)\n",
    "    llist.pop()\n",
    "    llist.pop()\n",
    "    llist.show()\n",
    "pop_test()"
   ]
  },
  {
   "cell_type": "code",
   "execution_count": null,
   "metadata": {},
   "outputs": [],
   "source": [
    "def append_test():\n",
    "    llist = LinkedList(Node(0))\n",
    "    for i in range(1, 5):\n",
    "        llist.append(i)\n",
    "    llist.show()\n",
    "append_test()"
   ]
  },
  {
   "cell_type": "code",
   "execution_count": null,
   "metadata": {},
   "outputs": [],
   "source": [
    "def insert_test():\n",
    "    llist = LinkedList(Node(0))\n",
    "    for i in range(1, 5):\n",
    "        llist.append(i)\n",
    "    llist.insert(0, -1)\n",
    "    llist.insert(6, 6)\n",
    "    llist.insert(6, 5)\n",
    "    llist.show()\n",
    "insert_test()"
   ]
  },
  {
   "cell_type": "code",
   "execution_count": null,
   "metadata": {},
   "outputs": [],
   "source": [
    "def delete_test():\n",
    "    llist = LinkedList(Node(0))\n",
    "    for i in range(1, 11):\n",
    "        llist.append(i)\n",
    "    for i in range(11):\n",
    "        if i%2 == 0:\n",
    "            llist.delete(i)\n",
    "    llist.show()\n",
    "delete_test()"
   ]
  },
  {
   "cell_type": "code",
   "execution_count": null,
   "metadata": {},
   "outputs": [],
   "source": []
  }
 ],
 "metadata": {
  "kernelspec": {
   "display_name": "Python 3",
   "language": "python",
   "name": "python3"
  },
  "language_info": {
   "codemirror_mode": {
    "name": "ipython",
    "version": 3
   },
   "file_extension": ".py",
   "mimetype": "text/x-python",
   "name": "python",
   "nbconvert_exporter": "python",
   "pygments_lexer": "ipython3",
   "version": "3.8.5"
  }
 },
 "nbformat": 4,
 "nbformat_minor": 4
}
