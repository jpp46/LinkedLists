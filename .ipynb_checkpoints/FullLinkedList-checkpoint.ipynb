{
 "cells": [
  {
   "cell_type": "code",
   "execution_count": 1,
   "metadata": {
    "code_folding": []
   },
   "outputs": [],
   "source": [
    "class Node(object):\n",
    "    def __init__(self, data=None, next_node=None):\n",
    "        self.data = data\n",
    "        self.next_node = next_node\n",
    "\n",
    "    def get_data(self):\n",
    "        return self.data\n",
    "\n",
    "    def get_next(self):\n",
    "        return self.next_node\n",
    "\n",
    "    def set_next(self, new_next):\n",
    "        self.next_node = new_next"
   ]
  },
  {
   "cell_type": "code",
   "execution_count": 2,
   "metadata": {},
   "outputs": [],
   "source": [
    "class LinkedList(object):\n",
    "    def __init__(self, head=None):\n",
    "        self.head = head\n",
    "        \n",
    "    def prepend(self, data):\n",
    "        new_node = Node(data)\n",
    "        new_node.set_next(self.head)\n",
    "        self.head = new_node\n",
    "        \n",
    "    def pop(self):\n",
    "        node = self.head\n",
    "        self.head = self.head.get_next()\n",
    "        return node\n",
    "        \n",
    "    def append(self, data):\n",
    "        previous = None\n",
    "        current = self.head\n",
    "        \n",
    "        while current != None:\n",
    "            previous = current\n",
    "            current = current.get_next()\n",
    "        \n",
    "        new_node = Node(data)\n",
    "        previous.set_next(new_node)\n",
    "        \n",
    "    def insert(self, index, data):\n",
    "        if index == 0:\n",
    "            self.prepend(data)\n",
    "            return\n",
    "        \n",
    "        previous = None\n",
    "        current = self.head\n",
    "        cur_index = 0\n",
    "        \n",
    "        while cur_index < index:\n",
    "            cur_index += 1\n",
    "            previous = current\n",
    "            current = current.get_next()\n",
    "            \n",
    "        new_node = Node(data)\n",
    "        previous.set_next(new_node)\n",
    "        new_node.set_next(current)\n",
    "    \n",
    "    def delete(self, data):\n",
    "        if self.head.get_data() == data:\n",
    "            node = self.pop()\n",
    "            return node\n",
    "        \n",
    "        previous = None\n",
    "        current = self.head\n",
    "        found = False\n",
    "        \n",
    "        while current != None and found == False:\n",
    "            if current.get_data() == data:\n",
    "                found = True\n",
    "            else:\n",
    "                previous = current\n",
    "                current = current.get_next()\n",
    "        \n",
    "        if current == None:\n",
    "            return None\n",
    "        \n",
    "        previous.set_next(current.get_next())\n",
    "        return current\n",
    "            \n",
    "            \n",
    "    \n",
    "    def show(self):\n",
    "        current = self.head\n",
    "        \n",
    "        while current:\n",
    "            print(current.get_data())\n",
    "            print(u'\\u2193') # u'/u2193' is the character code for a down arrow\n",
    "            current = current.get_next()\n",
    "        print(current, \"\\n\")\n",
    "            \n",
    "    def size(self):\n",
    "        current = self.head\n",
    "        count = 0\n",
    "        \n",
    "        while current:\n",
    "            count += 1\n",
    "            current = current.get_next()\n",
    "        \n",
    "        return count\n",
    "    \n",
    "    def search(self, data):\n",
    "        current = self.head\n",
    "        found = False\n",
    "        \n",
    "        while current and found is False:\n",
    "            if current.get_data() == data:\n",
    "                found = True\n",
    "            else:\n",
    "                current = current.get_next()\n",
    "        \n",
    "        if current is None:\n",
    "            return None\n",
    "        \n",
    "        return current"
   ]
  },
  {
   "cell_type": "code",
   "execution_count": 3,
   "metadata": {},
   "outputs": [
    {
     "name": "stdout",
     "output_type": "stream",
     "text": [
      "0\n",
      "↓\n",
      "None \n",
      "\n"
     ]
    }
   ],
   "source": [
    "def init_test():\n",
    "    llist = LinkedList(Node(0))\n",
    "    llist.show()\n",
    "init_test()"
   ]
  },
  {
   "cell_type": "code",
   "execution_count": 4,
   "metadata": {},
   "outputs": [
    {
     "name": "stdout",
     "output_type": "stream",
     "text": [
      "4\n",
      "↓\n",
      "3\n",
      "↓\n",
      "2\n",
      "↓\n",
      "1\n",
      "↓\n",
      "0\n",
      "↓\n",
      "None \n",
      "\n"
     ]
    }
   ],
   "source": [
    "def prepend_test():\n",
    "    llist = LinkedList(Node(0))\n",
    "    for i in range(1, 5):\n",
    "        llist.prepend(i)\n",
    "    llist.show()\n",
    "prepend_test()"
   ]
  },
  {
   "cell_type": "code",
   "execution_count": 5,
   "metadata": {},
   "outputs": [
    {
     "name": "stdout",
     "output_type": "stream",
     "text": [
      "2\n",
      "↓\n",
      "1\n",
      "↓\n",
      "0\n",
      "↓\n",
      "None \n",
      "\n"
     ]
    }
   ],
   "source": [
    "def pop_test():\n",
    "    llist = LinkedList(Node(0))\n",
    "    for i in range(1, 5):\n",
    "        llist.prepend(i)\n",
    "    llist.pop()\n",
    "    llist.pop()\n",
    "    llist.show()\n",
    "pop_test()"
   ]
  },
  {
   "cell_type": "code",
   "execution_count": 6,
   "metadata": {},
   "outputs": [
    {
     "name": "stdout",
     "output_type": "stream",
     "text": [
      "0\n",
      "↓\n",
      "1\n",
      "↓\n",
      "2\n",
      "↓\n",
      "3\n",
      "↓\n",
      "4\n",
      "↓\n",
      "None \n",
      "\n"
     ]
    }
   ],
   "source": [
    "def append_test():\n",
    "    llist = LinkedList(Node(0))\n",
    "    for i in range(1, 5):\n",
    "        llist.append(i)\n",
    "    llist.show()\n",
    "append_test()"
   ]
  },
  {
   "cell_type": "code",
   "execution_count": 7,
   "metadata": {},
   "outputs": [
    {
     "name": "stdout",
     "output_type": "stream",
     "text": [
      "-1\n",
      "↓\n",
      "0\n",
      "↓\n",
      "1\n",
      "↓\n",
      "2\n",
      "↓\n",
      "3\n",
      "↓\n",
      "4\n",
      "↓\n",
      "5\n",
      "↓\n",
      "6\n",
      "↓\n",
      "None \n",
      "\n"
     ]
    }
   ],
   "source": [
    "def insert_test():\n",
    "    llist = LinkedList(Node(0))\n",
    "    for i in range(1, 5):\n",
    "        llist.append(i)\n",
    "    llist.insert(0, -1)\n",
    "    llist.insert(6, 6)\n",
    "    llist.insert(6, 5)\n",
    "    llist.show()\n",
    "insert_test()"
   ]
  },
  {
   "cell_type": "code",
   "execution_count": 8,
   "metadata": {},
   "outputs": [
    {
     "name": "stdout",
     "output_type": "stream",
     "text": [
      "1\n",
      "↓\n",
      "3\n",
      "↓\n",
      "5\n",
      "↓\n",
      "7\n",
      "↓\n",
      "9\n",
      "↓\n",
      "None \n",
      "\n"
     ]
    }
   ],
   "source": [
    "def delete_test():\n",
    "    llist = LinkedList(Node(0))\n",
    "    for i in range(1, 11):\n",
    "        llist.append(i)\n",
    "    for i in range(11):\n",
    "        if i%2 == 0:\n",
    "            llist.delete(i)\n",
    "    llist.show()\n",
    "delete_test()"
   ]
  },
  {
   "cell_type": "code",
   "execution_count": null,
   "metadata": {},
   "outputs": [],
   "source": []
  }
 ],
 "metadata": {
  "kernelspec": {
   "display_name": "Python 3",
   "language": "python",
   "name": "python3"
  },
  "language_info": {
   "codemirror_mode": {
    "name": "ipython",
    "version": 3
   },
   "file_extension": ".py",
   "mimetype": "text/x-python",
   "name": "python",
   "nbconvert_exporter": "python",
   "pygments_lexer": "ipython3",
   "version": "3.8.5"
  }
 },
 "nbformat": 4,
 "nbformat_minor": 4
}
